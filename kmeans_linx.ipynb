{
 "cells": [
  {
   "cell_type": "code",
   "execution_count": 1,
   "metadata": {},
   "outputs": [],
   "source": [
    "%matplotlib inline\n",
    "import numpy as np\n",
    "import pandas as pd\n",
    "import matplotlib.pyplot as plt\n",
    "import seaborn as sns\n",
    "sns.set_style('whitegrid', {\"axes.grid\" : False})\n",
    "sns.set_context('notebook')\n",
    "np.random.seed(42)"
   ]
  },
  {
   "cell_type": "code",
   "execution_count": 2,
   "metadata": {},
   "outputs": [],
   "source": [
    "from sklearn.cluster import KMeans\n"
   ]
  },
  {
   "cell_type": "code",
   "execution_count": 3,
   "metadata": {},
   "outputs": [],
   "source": [
    "import datetime"
   ]
  },
  {
   "cell_type": "code",
   "execution_count": 4,
   "metadata": {},
   "outputs": [],
   "source": [
    "import math"
   ]
  },
  {
   "cell_type": "code",
   "execution_count": 5,
   "metadata": {},
   "outputs": [],
   "source": [
    "from periodos_dia import periodo"
   ]
  },
  {
   "cell_type": "code",
   "execution_count": 6,
   "metadata": {},
   "outputs": [
    {
     "name": "stderr",
     "output_type": "stream",
     "text": [
      "b'Skipping line 113940: expected 8 fields, saw 10\\nSkipping line 125742: expected 8 fields, saw 10\\nSkipping line 126487: expected 8 fields, saw 9\\n'\n",
      "b'Skipping line 293870: expected 8 fields, saw 11\\nSkipping line 316822: expected 8 fields, saw 10\\n'\n",
      "b'Skipping line 344134: expected 8 fields, saw 10\\nSkipping line 368849: expected 8 fields, saw 10\\n'\n",
      "b'Skipping line 423117: expected 8 fields, saw 10\\nSkipping line 439838: expected 8 fields, saw 9\\nSkipping line 439901: expected 8 fields, saw 10\\n'\n",
      "b'Skipping line 487016: expected 8 fields, saw 10\\n'\n",
      "b'Skipping line 524880: expected 8 fields, saw 10\\nSkipping line 540034: expected 8 fields, saw 10\\nSkipping line 553235: expected 8 fields, saw 10\\n'\n",
      "b'Skipping line 618268: expected 8 fields, saw 9\\nSkipping line 624592: expected 8 fields, saw 10\\nSkipping line 625248: expected 8 fields, saw 10\\n'\n",
      "b'Skipping line 736446: expected 8 fields, saw 9\\nSkipping line 742733: expected 8 fields, saw 10\\nSkipping line 781287: expected 8 fields, saw 10\\n'\n",
      "b'Skipping line 841810: expected 8 fields, saw 9\\nSkipping line 843144: expected 8 fields, saw 9\\n'\n",
      "b'Skipping line 856817: expected 8 fields, saw 9\\nSkipping line 859283: expected 8 fields, saw 10\\n'\n",
      "b'Skipping line 923955: expected 8 fields, saw 10\\nSkipping line 965099: expected 8 fields, saw 9\\n'\n",
      "b'Skipping line 1009224: expected 8 fields, saw 9\\nSkipping line 1019660: expected 8 fields, saw 10\\nSkipping line 1040877: expected 8 fields, saw 10\\n'\n",
      "b'Skipping line 1051229: expected 8 fields, saw 9\\n'\n",
      "b'Skipping line 1220196: expected 8 fields, saw 10\\nSkipping line 1235207: expected 8 fields, saw 10\\n'\n",
      "b'Skipping line 1312869: expected 8 fields, saw 10\\nSkipping line 1334118: expected 8 fields, saw 10\\nSkipping line 1357110: expected 8 fields, saw 10\\nSkipping line 1360242: expected 8 fields, saw 10\\nSkipping line 1372373: expected 8 fields, saw 10\\nSkipping line 1373896: expected 8 fields, saw 10\\n'\n",
      "b'Skipping line 1394022: expected 8 fields, saw 10\\n'\n",
      "C:\\Users\\Usuario\\Anaconda3\\envs\\hackaton_linx\\lib\\site-packages\\IPython\\core\\interactiveshell.py:3249: DtypeWarning: Columns (4) have mixed types. Specify dtype option on import or set low_memory=False.\n",
      "  if (await self.run_code(code, result,  async_=asy)):\n"
     ]
    }
   ],
   "source": [
    "from dao import *"
   ]
  },
  {
   "cell_type": "markdown",
   "metadata": {},
   "source": [
    "Reconhecimento das features e observações dos dois datasets"
   ]
  },
  {
   "cell_type": "code",
   "execution_count": 7,
   "metadata": {},
   "outputs": [
    {
     "name": "stdout",
     "output_type": "stream",
     "text": [
      "<class 'pandas.core.frame.DataFrame'>\n",
      "RangeIndex: 1630 entries, 0 to 1629\n",
      "Data columns (total 11 columns):\n",
      "encrypted_cnpj         1630 non-null object\n",
      "encrypted_5_zipcode    1626 non-null object\n",
      "encrypted_domain       1630 non-null object\n",
      "cnae                   283 non-null float64\n",
      "cheque                 1490 non-null float64\n",
      "crediario              999 non-null float64\n",
      "credito                1490 non-null float64\n",
      "debito                 1490 non-null float64\n",
      "deposito               1547 non-null float64\n",
      "dinheiro               1490 non-null float64\n",
      "transferencia          1547 non-null float64\n",
      "dtypes: float64(8), object(3)\n",
      "memory usage: 140.2+ KB\n"
     ]
    }
   ],
   "source": [
    "stores.info()"
   ]
  },
  {
   "cell_type": "code",
   "execution_count": 8,
   "metadata": {},
   "outputs": [
    {
     "name": "stdout",
     "output_type": "stream",
     "text": [
      "<class 'pandas.core.frame.DataFrame'>\n",
      "RangeIndex: 1484991 entries, 0 to 1484990\n",
      "Data columns (total 8 columns):\n",
      "encrypted_domain        1484991 non-null object\n",
      "encrypted_cnpj          1484983 non-null object\n",
      "encrypted_saleid        1484979 non-null object\n",
      "dateTime                1484977 non-null object\n",
      "productTotal            1484977 non-null object\n",
      "prod_fullname           1484977 non-null object\n",
      "encrypted_buyer_cpf     519980 non-null object\n",
      "encrypted_buyer_cnpj    38117 non-null object\n",
      "dtypes: object(8)\n",
      "memory usage: 90.6+ MB\n"
     ]
    }
   ],
   "source": [
    "sales.info()"
   ]
  },
  {
   "cell_type": "markdown",
   "metadata": {},
   "source": [
    "## Equalizando algumas features para considerar a sazonalizadade"
   ]
  },
  {
   "cell_type": "markdown",
   "metadata": {},
   "source": [
    "Eliminando linhas sem registro de hora, formatando hora, definindo coluna de hora e período como uma primeira clusterização."
   ]
  },
  {
   "cell_type": "code",
   "execution_count": null,
   "metadata": {},
   "outputs": [],
   "source": [
    "sales.dropna(subset=['dateTime'],inplace=True)"
   ]
  },
  {
   "cell_type": "code",
   "execution_count": null,
   "metadata": {},
   "outputs": [],
   "source": [
    "sales['dateTime'] = sales['dateTime'].apply(lambda x: x  if pd.isnull(x) else pd.to_datetime(x,errors='coerce'))"
   ]
  },
  {
   "cell_type": "code",
   "execution_count": null,
   "metadata": {},
   "outputs": [],
   "source": [
    "sales['hora'] = sales['dateTime'].apply(lambda x: x  if pd.isnull(x) else pd.to_datetime(x,errors='coerce').strftime(\"%H\"))"
   ]
  },
  {
   "cell_type": "code",
   "execution_count": null,
   "metadata": {},
   "outputs": [],
   "source": [
    "sales['periodo'] = sales['hora'].apply(lambda x: periodo(int(x)).get('id'))"
   ]
  },
  {
   "cell_type": "markdown",
   "metadata": {},
   "source": [
    "Definindo ceps e cnae não identificados como '0'."
   ]
  },
  {
   "cell_type": "code",
   "execution_count": null,
   "metadata": {},
   "outputs": [],
   "source": [
    "stores.encrypted_5_zipcode.fillna(0,inplace=True)"
   ]
  },
  {
   "cell_type": "code",
   "execution_count": null,
   "metadata": {},
   "outputs": [],
   "source": [
    "stores.cnae.fillna(0,inplace=True)"
   ]
  },
  {
   "cell_type": "markdown",
   "metadata": {},
   "source": [
    "Unificando os datasets"
   ]
  },
  {
   "cell_type": "code",
   "execution_count": null,
   "metadata": {},
   "outputs": [],
   "source": [
    "data_linx = pd.merge(sales, stores, on='encrypted_cnpj')"
   ]
  },
  {
   "cell_type": "code",
   "execution_count": null,
   "metadata": {},
   "outputs": [],
   "source": [
    "data_linx.info()"
   ]
  },
  {
   "cell_type": "code",
   "execution_count": null,
   "metadata": {},
   "outputs": [],
   "source": []
  }
 ],
 "metadata": {
  "kernelspec": {
   "display_name": "Python 3",
   "language": "python",
   "name": "python3"
  },
  "language_info": {
   "codemirror_mode": {
    "name": "ipython",
    "version": 3
   },
   "file_extension": ".py",
   "mimetype": "text/x-python",
   "name": "python",
   "nbconvert_exporter": "python",
   "pygments_lexer": "ipython3",
   "version": "3.7.4"
  }
 },
 "nbformat": 4,
 "nbformat_minor": 2
}
