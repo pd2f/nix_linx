{
 "cells": [
  {
   "cell_type": "code",
   "execution_count": 1,
   "metadata": {},
   "outputs": [],
   "source": [
    "%matplotlib inline\n",
    "import numpy as np\n",
    "import pandas as pd\n",
    "import matplotlib.pyplot as plt\n",
    "import seaborn as sns\n",
    "sns.set_style('whitegrid', {\"axes.grid\" : False})\n",
    "sns.set_context('notebook')\n",
    "np.random.seed(42)"
   ]
  },
  {
   "cell_type": "code",
   "execution_count": 2,
   "metadata": {},
   "outputs": [],
   "source": [
    "from sklearn.cluster import KMeans\n"
   ]
  },
  {
   "cell_type": "code",
   "execution_count": 3,
   "metadata": {},
   "outputs": [],
   "source": [
    "import datetime"
   ]
  },
  {
   "cell_type": "code",
   "execution_count": 4,
   "metadata": {},
   "outputs": [],
   "source": [
    "import math"
   ]
  },
  {
   "cell_type": "code",
   "execution_count": 5,
   "metadata": {},
   "outputs": [],
   "source": [
    "from periodos_dia import periodo"
   ]
  },
  {
   "cell_type": "code",
   "execution_count": 6,
   "metadata": {},
   "outputs": [
    {
     "name": "stderr",
     "output_type": "stream",
     "text": [
      "b'Skipping line 113940: expected 8 fields, saw 10\\nSkipping line 125742: expected 8 fields, saw 10\\nSkipping line 126487: expected 8 fields, saw 9\\n'\n",
      "b'Skipping line 293870: expected 8 fields, saw 11\\nSkipping line 316822: expected 8 fields, saw 10\\n'\n",
      "b'Skipping line 344134: expected 8 fields, saw 10\\nSkipping line 368849: expected 8 fields, saw 10\\n'\n",
      "b'Skipping line 423117: expected 8 fields, saw 10\\nSkipping line 439838: expected 8 fields, saw 9\\nSkipping line 439901: expected 8 fields, saw 10\\n'\n",
      "b'Skipping line 487016: expected 8 fields, saw 10\\n'\n",
      "b'Skipping line 524880: expected 8 fields, saw 10\\nSkipping line 540034: expected 8 fields, saw 10\\nSkipping line 553235: expected 8 fields, saw 10\\n'\n",
      "b'Skipping line 618268: expected 8 fields, saw 9\\nSkipping line 624592: expected 8 fields, saw 10\\nSkipping line 625248: expected 8 fields, saw 10\\n'\n",
      "b'Skipping line 736446: expected 8 fields, saw 9\\nSkipping line 742733: expected 8 fields, saw 10\\nSkipping line 781287: expected 8 fields, saw 10\\n'\n",
      "b'Skipping line 841810: expected 8 fields, saw 9\\nSkipping line 843144: expected 8 fields, saw 9\\n'\n",
      "b'Skipping line 856817: expected 8 fields, saw 9\\nSkipping line 859283: expected 8 fields, saw 10\\n'\n",
      "b'Skipping line 923955: expected 8 fields, saw 10\\nSkipping line 965099: expected 8 fields, saw 9\\n'\n",
      "b'Skipping line 1009224: expected 8 fields, saw 9\\nSkipping line 1019660: expected 8 fields, saw 10\\nSkipping line 1040877: expected 8 fields, saw 10\\n'\n",
      "b'Skipping line 1051229: expected 8 fields, saw 9\\n'\n",
      "b'Skipping line 1220196: expected 8 fields, saw 10\\nSkipping line 1235207: expected 8 fields, saw 10\\n'\n",
      "b'Skipping line 1312869: expected 8 fields, saw 10\\nSkipping line 1334118: expected 8 fields, saw 10\\nSkipping line 1357110: expected 8 fields, saw 10\\nSkipping line 1360242: expected 8 fields, saw 10\\nSkipping line 1372373: expected 8 fields, saw 10\\nSkipping line 1373896: expected 8 fields, saw 10\\n'\n",
      "b'Skipping line 1394022: expected 8 fields, saw 10\\n'\n",
      "C:\\Users\\Usuario\\Anaconda3\\envs\\hackaton_linx\\lib\\site-packages\\IPython\\core\\interactiveshell.py:3249: DtypeWarning: Columns (4) have mixed types. Specify dtype option on import or set low_memory=False.\n",
      "  if (await self.run_code(code, result,  async_=asy)):\n"
     ]
    }
   ],
   "source": [
    "from dao import data_linx"
   ]
  },
  {
   "cell_type": "markdown",
   "metadata": {},
   "source": [
    "Reconhecimento das features e observações dos dois datasets"
   ]
  },
  {
   "cell_type": "code",
   "execution_count": 7,
   "metadata": {},
   "outputs": [
    {
     "name": "stdout",
     "output_type": "stream",
     "text": [
      "<class 'pandas.core.frame.DataFrame'>\n",
      "Int64Index: 1482383 entries, 0 to 1482382\n",
      "Data columns (total 20 columns):\n",
      "encrypted_domain_x      1482383 non-null object\n",
      "encrypted_cnpj          1482383 non-null object\n",
      "encrypted_saleid        1482383 non-null object\n",
      "dateTime                1482383 non-null datetime64[ns, UTC]\n",
      "productTotal            1482383 non-null object\n",
      "prod_fullname           1482383 non-null object\n",
      "encrypted_buyer_cpf     519615 non-null object\n",
      "encrypted_buyer_cnpj    37788 non-null object\n",
      "hora                    1482383 non-null object\n",
      "periodo                 1482383 non-null int64\n",
      "encrypted_5_zipcode     1482383 non-null object\n",
      "encrypted_domain_y      1482383 non-null object\n",
      "cnae                    1482383 non-null float64\n",
      "cheque                  1436504 non-null float64\n",
      "crediario               1012189 non-null float64\n",
      "credito                 1436504 non-null float64\n",
      "debito                  1436504 non-null float64\n",
      "deposito                1452368 non-null float64\n",
      "dinheiro                1436504 non-null float64\n",
      "transferencia           1452368 non-null float64\n",
      "dtypes: datetime64[ns, UTC](1), float64(8), int64(1), object(10)\n",
      "memory usage: 237.5+ MB\n"
     ]
    }
   ],
   "source": [
    "data_linx.info()"
   ]
  },
  {
   "cell_type": "code",
   "execution_count": 9,
   "metadata": {},
   "outputs": [],
   "source": [
    "np.random.seed(43)"
   ]
  },
  {
   "cell_type": "code",
   "execution_count": 147,
   "metadata": {},
   "outputs": [
    {
     "ename": "AttributeError",
     "evalue": "'Series' object has no attribute 'info'",
     "output_type": "error",
     "traceback": [
      "\u001b[1;31m---------------------------------------------------------------------------\u001b[0m",
      "\u001b[1;31mAttributeError\u001b[0m                            Traceback (most recent call last)",
      "\u001b[1;32m<ipython-input-147-9c597282092e>\u001b[0m in \u001b[0;36m<module>\u001b[1;34m\u001b[0m\n\u001b[0;32m      1\u001b[0m \u001b[0mbaseDados\u001b[0m \u001b[1;33m=\u001b[0m \u001b[0mdata_linx\u001b[0m\u001b[1;33m\u001b[0m\u001b[1;33m\u001b[0m\u001b[0m\n\u001b[1;32m----> 2\u001b[1;33m \u001b[0mbaseDados\u001b[0m\u001b[1;33m.\u001b[0m\u001b[0minfo\u001b[0m\u001b[1;33m(\u001b[0m\u001b[1;33m)\u001b[0m\u001b[1;33m\u001b[0m\u001b[1;33m\u001b[0m\u001b[0m\n\u001b[0m",
      "\u001b[1;32m~\\Anaconda3\\envs\\hackaton_linx\\lib\\site-packages\\pandas\\core\\generic.py\u001b[0m in \u001b[0;36m__getattr__\u001b[1;34m(self, name)\u001b[0m\n\u001b[0;32m   5178\u001b[0m             \u001b[1;32mif\u001b[0m \u001b[0mself\u001b[0m\u001b[1;33m.\u001b[0m\u001b[0m_info_axis\u001b[0m\u001b[1;33m.\u001b[0m\u001b[0m_can_hold_identifiers_and_holds_name\u001b[0m\u001b[1;33m(\u001b[0m\u001b[0mname\u001b[0m\u001b[1;33m)\u001b[0m\u001b[1;33m:\u001b[0m\u001b[1;33m\u001b[0m\u001b[1;33m\u001b[0m\u001b[0m\n\u001b[0;32m   5179\u001b[0m                 \u001b[1;32mreturn\u001b[0m \u001b[0mself\u001b[0m\u001b[1;33m[\u001b[0m\u001b[0mname\u001b[0m\u001b[1;33m]\u001b[0m\u001b[1;33m\u001b[0m\u001b[1;33m\u001b[0m\u001b[0m\n\u001b[1;32m-> 5180\u001b[1;33m             \u001b[1;32mreturn\u001b[0m \u001b[0mobject\u001b[0m\u001b[1;33m.\u001b[0m\u001b[0m__getattribute__\u001b[0m\u001b[1;33m(\u001b[0m\u001b[0mself\u001b[0m\u001b[1;33m,\u001b[0m \u001b[0mname\u001b[0m\u001b[1;33m)\u001b[0m\u001b[1;33m\u001b[0m\u001b[1;33m\u001b[0m\u001b[0m\n\u001b[0m\u001b[0;32m   5181\u001b[0m \u001b[1;33m\u001b[0m\u001b[0m\n\u001b[0;32m   5182\u001b[0m     \u001b[1;32mdef\u001b[0m \u001b[0m__setattr__\u001b[0m\u001b[1;33m(\u001b[0m\u001b[0mself\u001b[0m\u001b[1;33m,\u001b[0m \u001b[0mname\u001b[0m\u001b[1;33m,\u001b[0m \u001b[0mvalue\u001b[0m\u001b[1;33m)\u001b[0m\u001b[1;33m:\u001b[0m\u001b[1;33m\u001b[0m\u001b[1;33m\u001b[0m\u001b[0m\n",
      "\u001b[1;31mAttributeError\u001b[0m: 'Series' object has no attribute 'info'"
     ]
    }
   ],
   "source": [
    "baseDados = data_linx\n",
    "baseDados.info()"
   ]
  },
  {
   "cell_type": "code",
   "execution_count": 126,
   "metadata": {},
   "outputs": [
    {
     "data": {
      "text/plain": [
       "KMeans(algorithm='auto', copy_x=True, init='k-means++', max_iter=300,\n",
       "       n_clusters=6, n_init=50, n_jobs=None, precompute_distances='auto',\n",
       "       random_state=None, tol=0.0001, verbose=0)"
      ]
     },
     "execution_count": 126,
     "metadata": {},
     "output_type": "execute_result"
    }
   ],
   "source": [
    "X = baseDados[['encrypted_saleid','periodo','productTotal']].values\n",
    "km1 = KMeans(n_clusters=6, n_init=50)\n",
    "km1.fit(X)"
   ]
  },
  {
   "cell_type": "code",
   "execution_count": 133,
   "metadata": {},
   "outputs": [
    {
     "data": {
      "text/plain": [
       "2    279910\n",
       "1    278412\n",
       "3    278320\n",
       "0    276125\n",
       "4    185879\n",
       "5    183737\n",
       "dtype: int64"
      ]
     },
     "execution_count": 133,
     "metadata": {},
     "output_type": "execute_result"
    }
   ],
   "source": [
    "pd.Series(km1.labels_).value_counts()"
   ]
  },
  {
   "cell_type": "code",
   "execution_count": 128,
   "metadata": {},
   "outputs": [
    {
     "data": {
      "text/plain": [
       "array(['3630643234373336643037313439636562303565393630373431373165643933',\n",
       "       '6364633832333939393439623930373034393366626462323461663734353764',\n",
       "       '3937663834333331643461373762396434313630356364333437663339663263',\n",
       "       ...,\n",
       "       '6436633064656537633231333465373766366132666331383536623566363262',\n",
       "       '6331393164366631366666376366663766383530383362363964623433303235',\n",
       "       '3237386235613235663939353638616532663534666366363665616532316239'],\n",
       "      dtype=object)"
      ]
     },
     "execution_count": 128,
     "metadata": {},
     "output_type": "execute_result"
    }
   ],
   "source": [
    "X[:,0]"
   ]
  },
  {
   "cell_type": "code",
   "execution_count": 131,
   "metadata": {},
   "outputs": [],
   "source": [
    "a = pd.DataFrame(X[km1.labels_==2])"
   ]
  },
  {
   "cell_type": "code",
   "execution_count": 146,
   "metadata": {},
   "outputs": [
    {
     "data": {
      "text/plain": [
       "2    40.002\n",
       "Name: 1, dtype: object"
      ]
     },
     "execution_count": 146,
     "metadata": {},
     "output_type": "execute_result"
    }
   ],
   "source": [
    "a[[2]].iloc[1]"
   ]
  },
  {
   "cell_type": "code",
   "execution_count": 101,
   "metadata": {},
   "outputs": [
    {
     "data": {
      "text/plain": [
       "array([3, 2, 3, 2, 2, 3, 2, 3, 4, 4, 4, 3, 3, 4, 4, 3, 3, 4, 4, 3, 4, 3,\n",
       "       4, 4, 3, 4, 3, 2, 4, 4, 3, 4, 3, 3, 2, 4, 3, 3, 2, 4, 3, 4, 4, 3,\n",
       "       2, 2, 4, 4, 3, 2, 4, 1, 2, 4, 2, 2, 3, 4, 3, 4, 3, 3, 2, 3, 4, 2,\n",
       "       2, 3, 3, 3, 3, 3, 3, 3, 1, 3, 4, 4, 4, 2, 4, 3, 4, 4, 4, 4, 3, 3,\n",
       "       3, 2, 2, 3, 3, 3, 4, 4, 3, 3, 4, 4], dtype=object)"
      ]
     },
     "execution_count": 101,
     "metadata": {},
     "output_type": "execute_result"
    }
   ],
   "source": [
    "X[:100,1]"
   ]
  },
  {
   "cell_type": "code",
   "execution_count": 129,
   "metadata": {},
   "outputs": [
    {
     "data": {
      "text/plain": [
       "<matplotlib.collections.PathCollection at 0x25a8686e388>"
      ]
     },
     "execution_count": 129,
     "metadata": {},
     "output_type": "execute_result"
    },
    {
     "data": {
      "image/png": "[encoded data removed]",
      "text/plain": [
       "<Figure size 1008x360 with 2 Axes>"
      ]
     },
     "metadata": {
      "needs_background": "light"
     },
     "output_type": "display_data"
    }
   ],
   "source": [
    "fig, (ax1, ax2) = plt.subplots(1,2, figsize=(14,5))\n",
    "\n",
    "ax1.scatter(X[:1000,0], X[:1000,2], s=40, c=km1.labels_[:1000], cmap=plt.cm.prism) \n",
    "ax1.set_title('K-Means Clustering Results with K=2')\n",
    "ax1.scatter(km1.cluster_centers_[:,0], km1.cluster_centers_[:,1], marker='+', s=40, c='k', linewidth=2)\n"
   ]
  },
  {
   "cell_type": "code",
   "execution_count": null,
   "metadata": {},
   "outputs": [],
   "source": []
  }
 ],
 "metadata": {
  "kernelspec": {
   "display_name": "Python 3",
   "language": "python",
   "name": "python3"
  },
  "language_info": {
   "codemirror_mode": {
    "name": "ipython",
    "version": 3
   },
   "file_extension": ".py",
   "mimetype": "text/x-python",
   "name": "python",
   "nbconvert_exporter": "python",
   "pygments_lexer": "ipython3",
   "version": "3.7.4"
  }
 },
 "nbformat": 4,
 "nbformat_minor": 2
}
